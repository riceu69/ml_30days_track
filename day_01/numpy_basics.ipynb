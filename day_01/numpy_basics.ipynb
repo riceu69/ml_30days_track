{
 "cells": [
  {
   "cell_type": "code",
   "execution_count": 16,
   "id": "0b517bd9-2052-40bf-ae50-c66a95f6acdd",
   "metadata": {},
   "outputs": [],
   "source": [
    "import numpy as np"
   ]
  },
  {
   "cell_type": "code",
   "execution_count": 17,
   "id": "fc053c47-ffc2-4e96-a554-316ae93bb8fd",
   "metadata": {},
   "outputs": [],
   "source": [
    "arr=np.array([0,1,2,3,4,5])   #creating an array"
   ]
  },
  {
   "cell_type": "code",
   "execution_count": 18,
   "id": "74178ed0-049b-4559-9487-0b1e4ebdc5a8",
   "metadata": {},
   "outputs": [
    {
     "data": {
      "text/plain": [
       "array([0, 1, 2, 3, 4, 5])"
      ]
     },
     "execution_count": 18,
     "metadata": {},
     "output_type": "execute_result"
    }
   ],
   "source": [
    "arr"
   ]
  },
  {
   "cell_type": "code",
   "execution_count": 19,
   "id": "d50448f0-31ca-47af-8bf6-d7ef974e43a5",
   "metadata": {},
   "outputs": [
    {
     "data": {
      "text/plain": [
       "array([10,  1,  2,  3,  4,  5], dtype=int8)"
      ]
     },
     "execution_count": 19,
     "metadata": {},
     "output_type": "execute_result"
    }
   ],
   "source": [
    "arr=np.array([10,1,2,3,4,5],np.int8) #can also add dtype to the array elements \n",
    "arr"
   ]
  },
  {
   "cell_type": "code",
   "execution_count": 20,
   "id": "07a7dc13-e6e8-4031-9183-a56ad94736b3",
   "metadata": {},
   "outputs": [
    {
     "data": {
      "text/plain": [
       "np.int8(10)"
      ]
     },
     "execution_count": 20,
     "metadata": {},
     "output_type": "execute_result"
    }
   ],
   "source": [
    "arr[0]"
   ]
  },
  {
   "cell_type": "code",
   "execution_count": 21,
   "id": "d3cdb5bb-863c-4c1d-ba76-7139bb79b2c6",
   "metadata": {},
   "outputs": [
    {
     "name": "stdout",
     "output_type": "stream",
     "text": [
      "10\n"
     ]
    }
   ],
   "source": [
    "print(arr[0])"
   ]
  },
  {
   "cell_type": "code",
   "execution_count": 23,
   "id": "aee7f35b-bf00-4f45-ae36-0cdba9335fff",
   "metadata": {},
   "outputs": [],
   "source": [
    "arr_2d=np.array([[1,2,3,4]])"
   ]
  },
  {
   "cell_type": "code",
   "execution_count": 24,
   "id": "23e7346c-aca8-44a1-9515-28a249f97989",
   "metadata": {},
   "outputs": [
    {
     "data": {
      "text/plain": [
       "array([1, 2, 3, 4])"
      ]
     },
     "execution_count": 24,
     "metadata": {},
     "output_type": "execute_result"
    }
   ],
   "source": [
    "arr_2d[0]"
   ]
  },
  {
   "cell_type": "code",
   "execution_count": 25,
   "id": "8086840b-3964-480b-9e6f-9deea23e628f",
   "metadata": {},
   "outputs": [
    {
     "data": {
      "text/plain": [
       "np.int64(4)"
      ]
     },
     "execution_count": 25,
     "metadata": {},
     "output_type": "execute_result"
    }
   ],
   "source": [
    "arr_2d[0,3]"
   ]
  },
  {
   "cell_type": "code",
   "execution_count": 26,
   "id": "e0e429a7-4066-45c7-9251-1ca4d375ebcf",
   "metadata": {},
   "outputs": [
    {
     "data": {
      "text/plain": [
       "(1, 4)"
      ]
     },
     "execution_count": 26,
     "metadata": {},
     "output_type": "execute_result"
    }
   ],
   "source": [
    "arr_2d.shape"
   ]
  },
  {
   "cell_type": "code",
   "execution_count": 27,
   "id": "cf77a110-e652-48a3-bca2-46c645a48a53",
   "metadata": {},
   "outputs": [
    {
     "data": {
      "text/plain": [
       "dtype('int64')"
      ]
     },
     "execution_count": 27,
     "metadata": {},
     "output_type": "execute_result"
    }
   ],
   "source": [
    "arr_2d.dtype"
   ]
  },
  {
   "cell_type": "markdown",
   "id": "007a6911-27dd-49ec-aea2-61cacc99cfe1",
   "metadata": {},
   "source": [
    "<h1 style=\"font-size:50px;\">Ways to create an array</h1>\n"
   ]
  },
  {
   "cell_type": "code",
   "execution_count": 28,
   "id": "49169376-567b-4437-9ba7-d6c2793b3455",
   "metadata": {},
   "outputs": [],
   "source": [
    "obj=np.array({2,3,4,2})"
   ]
  },
  {
   "cell_type": "markdown",
   "id": "fcb658c7-33ca-4664-a6dc-09c8356f770e",
   "metadata": {},
   "source": [
    "**avoid object type data in data science**"
   ]
  },
  {
   "cell_type": "code",
   "execution_count": 29,
   "id": "b87f55a6-b5d2-45cb-aa0a-6b06f11c67a8",
   "metadata": {},
   "outputs": [
    {
     "data": {
      "text/plain": [
       "array({2, 3, 4}, dtype=object)"
      ]
     },
     "execution_count": 29,
     "metadata": {},
     "output_type": "execute_result"
    }
   ],
   "source": [
    "obj"
   ]
  },
  {
   "cell_type": "code",
   "execution_count": 34,
   "id": "a353171f-381b-42ce-a145-2fbe8c2d3559",
   "metadata": {},
   "outputs": [],
   "source": [
    "zero=np.zeros((2,5)) #matrix full of zero"
   ]
  },
  {
   "cell_type": "code",
   "execution_count": 35,
   "id": "e86a497b-5aa3-4074-816d-dbb79de5723a",
   "metadata": {},
   "outputs": [
    {
     "data": {
      "text/plain": [
       "array([[0., 0., 0., 0., 0.],\n",
       "       [0., 0., 0., 0., 0.]])"
      ]
     },
     "execution_count": 35,
     "metadata": {},
     "output_type": "execute_result"
    }
   ],
   "source": [
    "zero"
   ]
  },
  {
   "cell_type": "code",
   "execution_count": 37,
   "id": "048afa80-2e7f-44ca-9117-9489993cd691",
   "metadata": {},
   "outputs": [],
   "source": [
    "range=np.arange(15) #gives a range"
   ]
  },
  {
   "cell_type": "code",
   "execution_count": 38,
   "id": "bcb14912-8198-4692-aac9-1149d1bea6fd",
   "metadata": {},
   "outputs": [
    {
     "data": {
      "text/plain": [
       "array([ 0,  1,  2,  3,  4,  5,  6,  7,  8,  9, 10, 11, 12, 13, 14])"
      ]
     },
     "execution_count": 38,
     "metadata": {},
     "output_type": "execute_result"
    }
   ],
   "source": [
    "range"
   ]
  },
  {
   "cell_type": "code",
   "execution_count": 44,
   "id": "fe30893b-55cf-4461-9892-ff32570fe292",
   "metadata": {},
   "outputs": [],
   "source": [
    "lspace=np.linspace(2,15,10) #same spacing between number, useful for bins??"
   ]
  },
  {
   "cell_type": "code",
   "execution_count": 45,
   "id": "ff7cdb9f-bc3a-42e5-ab0a-fef191ed27f9",
   "metadata": {},
   "outputs": [
    {
     "data": {
      "text/plain": [
       "array([ 2.        ,  3.44444444,  4.88888889,  6.33333333,  7.77777778,\n",
       "        9.22222222, 10.66666667, 12.11111111, 13.55555556, 15.        ])"
      ]
     },
     "execution_count": 45,
     "metadata": {},
     "output_type": "execute_result"
    }
   ],
   "source": [
    "lspace"
   ]
  },
  {
   "cell_type": "code",
   "execution_count": 50,
   "id": "b1e9c584-7659-4ee1-b0fb-b0ec0e197471",
   "metadata": {},
   "outputs": [],
   "source": [
    "emp=np.empty(2)  #create an empty array\n",
    "emp1=np.empty((5,6))"
   ]
  },
  {
   "cell_type": "code",
   "execution_count": 52,
   "id": "5e15070f-8a93-4394-8a2c-50f36738dfab",
   "metadata": {},
   "outputs": [
    {
     "data": {
      "text/plain": [
       "array([2.00000000e+000, 6.54077441e-310])"
      ]
     },
     "execution_count": 52,
     "metadata": {},
     "output_type": "execute_result"
    }
   ],
   "source": [
    "emp"
   ]
  },
  {
   "cell_type": "code",
   "execution_count": 53,
   "id": "c4c0cac5-866f-4a9c-9ec4-1446431b4469",
   "metadata": {},
   "outputs": [
    {
     "data": {
      "text/plain": [
       "array([[5.15608347e-310, 0.00000000e+000, 6.54077538e-310,\n",
       "        6.54079127e-310, 6.54077538e-310, 6.54079127e-310],\n",
       "       [6.54077538e-310, 6.54079127e-310, 6.54077538e-310,\n",
       "        6.54079127e-310, 6.54077538e-310, 6.54079127e-310],\n",
       "       [6.54077538e-310, 6.54079127e-310, 6.54077538e-310,\n",
       "        6.54079127e-310, 6.54077538e-310, 6.54079127e-310],\n",
       "       [6.54077538e-310, 6.54077538e-310, 6.54079128e-310,\n",
       "        6.54079127e-310, 6.54079128e-310, 6.54077538e-310],\n",
       "       [6.54079128e-310, 6.54079127e-310, 6.54079128e-310,\n",
       "        6.54077538e-310, 6.54079128e-310, 6.54079127e-310]])"
      ]
     },
     "execution_count": 53,
     "metadata": {},
     "output_type": "execute_result"
    }
   ],
   "source": [
    "emp1"
   ]
  },
  {
   "cell_type": "code",
   "execution_count": 54,
   "id": "1c707e8c-8cf9-40c5-b9f4-a59cfe1196c9",
   "metadata": {},
   "outputs": [],
   "source": [
    "emp_like=np.empty_like(range)"
   ]
  },
  {
   "cell_type": "code",
   "execution_count": 56,
   "id": "aeea8f46-ee45-4a95-8ee9-756b76f7416b",
   "metadata": {},
   "outputs": [
    {
     "data": {
      "text/plain": [
       "array([104360297825816,               0,               0,               0,\n",
       "                     0,               0,               0,               0,\n",
       "                     0,               0,               0,               0,\n",
       "                     0,               0,             128])"
      ]
     },
     "execution_count": 56,
     "metadata": {},
     "output_type": "execute_result"
    }
   ],
   "source": [
    "emp_like"
   ]
  },
  {
   "cell_type": "code",
   "execution_count": 57,
   "id": "ea684e97-cd16-459c-997e-0678c59ce7b0",
   "metadata": {},
   "outputs": [],
   "source": [
    "ide=np.identity(20)"
   ]
  },
  {
   "cell_type": "code",
   "execution_count": 58,
   "id": "46a91ec5-042a-40c2-846d-6ec165c537c8",
   "metadata": {},
   "outputs": [
    {
     "data": {
      "text/plain": [
       "array([[1., 0., 0., 0., 0., 0., 0., 0., 0., 0., 0., 0., 0., 0., 0., 0.,\n",
       "        0., 0., 0., 0.],\n",
       "       [0., 1., 0., 0., 0., 0., 0., 0., 0., 0., 0., 0., 0., 0., 0., 0.,\n",
       "        0., 0., 0., 0.],\n",
       "       [0., 0., 1., 0., 0., 0., 0., 0., 0., 0., 0., 0., 0., 0., 0., 0.,\n",
       "        0., 0., 0., 0.],\n",
       "       [0., 0., 0., 1., 0., 0., 0., 0., 0., 0., 0., 0., 0., 0., 0., 0.,\n",
       "        0., 0., 0., 0.],\n",
       "       [0., 0., 0., 0., 1., 0., 0., 0., 0., 0., 0., 0., 0., 0., 0., 0.,\n",
       "        0., 0., 0., 0.],\n",
       "       [0., 0., 0., 0., 0., 1., 0., 0., 0., 0., 0., 0., 0., 0., 0., 0.,\n",
       "        0., 0., 0., 0.],\n",
       "       [0., 0., 0., 0., 0., 0., 1., 0., 0., 0., 0., 0., 0., 0., 0., 0.,\n",
       "        0., 0., 0., 0.],\n",
       "       [0., 0., 0., 0., 0., 0., 0., 1., 0., 0., 0., 0., 0., 0., 0., 0.,\n",
       "        0., 0., 0., 0.],\n",
       "       [0., 0., 0., 0., 0., 0., 0., 0., 1., 0., 0., 0., 0., 0., 0., 0.,\n",
       "        0., 0., 0., 0.],\n",
       "       [0., 0., 0., 0., 0., 0., 0., 0., 0., 1., 0., 0., 0., 0., 0., 0.,\n",
       "        0., 0., 0., 0.],\n",
       "       [0., 0., 0., 0., 0., 0., 0., 0., 0., 0., 1., 0., 0., 0., 0., 0.,\n",
       "        0., 0., 0., 0.],\n",
       "       [0., 0., 0., 0., 0., 0., 0., 0., 0., 0., 0., 1., 0., 0., 0., 0.,\n",
       "        0., 0., 0., 0.],\n",
       "       [0., 0., 0., 0., 0., 0., 0., 0., 0., 0., 0., 0., 1., 0., 0., 0.,\n",
       "        0., 0., 0., 0.],\n",
       "       [0., 0., 0., 0., 0., 0., 0., 0., 0., 0., 0., 0., 0., 1., 0., 0.,\n",
       "        0., 0., 0., 0.],\n",
       "       [0., 0., 0., 0., 0., 0., 0., 0., 0., 0., 0., 0., 0., 0., 1., 0.,\n",
       "        0., 0., 0., 0.],\n",
       "       [0., 0., 0., 0., 0., 0., 0., 0., 0., 0., 0., 0., 0., 0., 0., 1.,\n",
       "        0., 0., 0., 0.],\n",
       "       [0., 0., 0., 0., 0., 0., 0., 0., 0., 0., 0., 0., 0., 0., 0., 0.,\n",
       "        1., 0., 0., 0.],\n",
       "       [0., 0., 0., 0., 0., 0., 0., 0., 0., 0., 0., 0., 0., 0., 0., 0.,\n",
       "        0., 1., 0., 0.],\n",
       "       [0., 0., 0., 0., 0., 0., 0., 0., 0., 0., 0., 0., 0., 0., 0., 0.,\n",
       "        0., 0., 1., 0.],\n",
       "       [0., 0., 0., 0., 0., 0., 0., 0., 0., 0., 0., 0., 0., 0., 0., 0.,\n",
       "        0., 0., 0., 1.]])"
      ]
     },
     "execution_count": 58,
     "metadata": {},
     "output_type": "execute_result"
    }
   ],
   "source": [
    "ide"
   ]
  },
  {
   "cell_type": "code",
   "execution_count": 59,
   "id": "56e785fd-c17e-40f1-840d-a6505322cc69",
   "metadata": {},
   "outputs": [
    {
     "data": {
      "text/plain": [
       "(20, 20)"
      ]
     },
     "execution_count": 59,
     "metadata": {},
     "output_type": "execute_result"
    }
   ],
   "source": [
    "ide.shape"
   ]
  },
  {
   "cell_type": "markdown",
   "id": "f40e4640-6226-40d0-bd33-6721686dcb54",
   "metadata": {},
   "source": [
    "<h1 style=\"font-size:30px;\">Some useful functions</h1>\n"
   ]
  },
  {
   "cell_type": "code",
   "execution_count": 60,
   "id": "70ae5dba-5690-4179-89eb-9fa873938aa0",
   "metadata": {},
   "outputs": [],
   "source": [
    "demn=np.arange(99)"
   ]
  },
  {
   "cell_type": "code",
   "execution_count": 61,
   "id": "3a19714b-d485-459e-bf1c-b1619576384a",
   "metadata": {},
   "outputs": [
    {
     "data": {
      "text/plain": [
       "array([ 0,  1,  2,  3,  4,  5,  6,  7,  8,  9, 10, 11, 12, 13, 14, 15, 16,\n",
       "       17, 18, 19, 20, 21, 22, 23, 24, 25, 26, 27, 28, 29, 30, 31, 32, 33,\n",
       "       34, 35, 36, 37, 38, 39, 40, 41, 42, 43, 44, 45, 46, 47, 48, 49, 50,\n",
       "       51, 52, 53, 54, 55, 56, 57, 58, 59, 60, 61, 62, 63, 64, 65, 66, 67,\n",
       "       68, 69, 70, 71, 72, 73, 74, 75, 76, 77, 78, 79, 80, 81, 82, 83, 84,\n",
       "       85, 86, 87, 88, 89, 90, 91, 92, 93, 94, 95, 96, 97, 98])"
      ]
     },
     "execution_count": 61,
     "metadata": {},
     "output_type": "execute_result"
    }
   ],
   "source": [
    "demn"
   ]
  },
  {
   "cell_type": "code",
   "execution_count": 68,
   "id": "bb17cfca-59e9-4333-9cf5-6bf086eea910",
   "metadata": {},
   "outputs": [],
   "source": [
    "demn=demn.reshape(3,33)"
   ]
  },
  {
   "cell_type": "code",
   "execution_count": 69,
   "id": "ec237f91-b0bb-4dfc-b111-c0f710cc1e2e",
   "metadata": {},
   "outputs": [
    {
     "data": {
      "text/plain": [
       "array([[ 0,  1,  2,  3,  4,  5,  6,  7,  8,  9, 10, 11, 12, 13, 14, 15,\n",
       "        16, 17, 18, 19, 20, 21, 22, 23, 24, 25, 26, 27, 28, 29, 30, 31,\n",
       "        32],\n",
       "       [33, 34, 35, 36, 37, 38, 39, 40, 41, 42, 43, 44, 45, 46, 47, 48,\n",
       "        49, 50, 51, 52, 53, 54, 55, 56, 57, 58, 59, 60, 61, 62, 63, 64,\n",
       "        65],\n",
       "       [66, 67, 68, 69, 70, 71, 72, 73, 74, 75, 76, 77, 78, 79, 80, 81,\n",
       "        82, 83, 84, 85, 86, 87, 88, 89, 90, 91, 92, 93, 94, 95, 96, 97,\n",
       "        98]])"
      ]
     },
     "execution_count": 69,
     "metadata": {},
     "output_type": "execute_result"
    }
   ],
   "source": [
    "demn"
   ]
  },
  {
   "cell_type": "code",
   "execution_count": 70,
   "id": "1270111c-764c-4761-97d5-1740d9c8af04",
   "metadata": {},
   "outputs": [
    {
     "data": {
      "text/plain": [
       "(3, 33)"
      ]
     },
     "execution_count": 70,
     "metadata": {},
     "output_type": "execute_result"
    }
   ],
   "source": [
    "demn.shape"
   ]
  },
  {
   "cell_type": "code",
   "execution_count": 71,
   "id": "1f141153-e966-4869-8d74-db54d1f4df6f",
   "metadata": {},
   "outputs": [],
   "source": [
    "demn=demn.ravel()"
   ]
  },
  {
   "cell_type": "code",
   "execution_count": 72,
   "id": "640219cd-9210-4ddb-aa22-bb1aa5547358",
   "metadata": {},
   "outputs": [
    {
     "data": {
      "text/plain": [
       "array([ 0,  1,  2,  3,  4,  5,  6,  7,  8,  9, 10, 11, 12, 13, 14, 15, 16,\n",
       "       17, 18, 19, 20, 21, 22, 23, 24, 25, 26, 27, 28, 29, 30, 31, 32, 33,\n",
       "       34, 35, 36, 37, 38, 39, 40, 41, 42, 43, 44, 45, 46, 47, 48, 49, 50,\n",
       "       51, 52, 53, 54, 55, 56, 57, 58, 59, 60, 61, 62, 63, 64, 65, 66, 67,\n",
       "       68, 69, 70, 71, 72, 73, 74, 75, 76, 77, 78, 79, 80, 81, 82, 83, 84,\n",
       "       85, 86, 87, 88, 89, 90, 91, 92, 93, 94, 95, 96, 97, 98])"
      ]
     },
     "execution_count": 72,
     "metadata": {},
     "output_type": "execute_result"
    }
   ],
   "source": [
    "demn"
   ]
  },
  {
   "cell_type": "code",
   "execution_count": 73,
   "id": "e40daf22-810a-4d47-b93a-0ff5f57942e5",
   "metadata": {},
   "outputs": [
    {
     "data": {
      "text/plain": [
       "(99,)"
      ]
     },
     "execution_count": 73,
     "metadata": {},
     "output_type": "execute_result"
    }
   ],
   "source": [
    "demn.shape"
   ]
  },
  {
   "cell_type": "markdown",
   "id": "ab4576f5-227d-490b-98f3-f018e6ef7119",
   "metadata": {},
   "source": [
    "<h1 style=\"font-size:30px;\">About axis and some more important functions</h1>"
   ]
  },
  {
   "cell_type": "code",
   "execution_count": 74,
   "id": "4f80c56e-aea7-43de-8e6f-5f3b46f226a4",
   "metadata": {},
   "outputs": [],
   "source": [
    "p=[[1,5,8],[3,2,4],[9,0,5]]"
   ]
  },
  {
   "cell_type": "code",
   "execution_count": 75,
   "id": "4b20b0e4-53f2-4df4-b7f6-b294344a30d5",
   "metadata": {},
   "outputs": [],
   "source": [
    "ar=np.array(p)"
   ]
  },
  {
   "cell_type": "code",
   "execution_count": 76,
   "id": "88bc68a7-1482-4e51-96e6-3a951911701d",
   "metadata": {},
   "outputs": [
    {
     "data": {
      "text/plain": [
       "array([[1, 5, 8],\n",
       "       [3, 2, 4],\n",
       "       [9, 0, 5]])"
      ]
     },
     "execution_count": 76,
     "metadata": {},
     "output_type": "execute_result"
    }
   ],
   "source": [
    "ar"
   ]
  },
  {
   "cell_type": "code",
   "execution_count": 77,
   "id": "a40d5e58-001a-423b-a400-f37eea80b129",
   "metadata": {},
   "outputs": [
    {
     "data": {
      "text/plain": [
       "array([13,  7, 17])"
      ]
     },
     "execution_count": 77,
     "metadata": {},
     "output_type": "execute_result"
    }
   ],
   "source": [
    "ar.sum(axis=0)"
   ]
  },
  {
   "cell_type": "code",
   "execution_count": 78,
   "id": "67094491-0d9b-48d5-a9c2-00ad6ad0b3d0",
   "metadata": {},
   "outputs": [
    {
     "data": {
      "text/plain": [
       "array([14,  9, 14])"
      ]
     },
     "execution_count": 78,
     "metadata": {},
     "output_type": "execute_result"
    }
   ],
   "source": [
    "ar.sum(axis=1)"
   ]
  },
  {
   "cell_type": "code",
   "execution_count": 80,
   "id": "8bf71579-e044-4195-8300-5fa27cfc0c30",
   "metadata": {},
   "outputs": [
    {
     "data": {
      "text/plain": [
       "array([[1, 3, 9],\n",
       "       [5, 2, 0],\n",
       "       [8, 4, 5]])"
      ]
     },
     "execution_count": 80,
     "metadata": {},
     "output_type": "execute_result"
    }
   ],
   "source": [
    "ar.T #transpose method"
   ]
  },
  {
   "cell_type": "code",
   "execution_count": 81,
   "id": "ac11d858-fb42-4be5-88eb-6d825a6f2274",
   "metadata": {},
   "outputs": [
    {
     "data": {
      "text/plain": [
       "<numpy.flatiter at 0x5eefa934a3a0>"
      ]
     },
     "execution_count": 81,
     "metadata": {},
     "output_type": "execute_result"
    }
   ],
   "source": [
    "ar.flat #gives an iterator"
   ]
  },
  {
   "cell_type": "code",
   "execution_count": 83,
   "id": "c941648f-1fa6-404b-b81f-c95c543058e9",
   "metadata": {},
   "outputs": [
    {
     "name": "stdout",
     "output_type": "stream",
     "text": [
      "1\n",
      "5\n",
      "8\n",
      "3\n",
      "2\n",
      "4\n",
      "9\n",
      "0\n",
      "5\n"
     ]
    }
   ],
   "source": [
    "for i in ar.flat:\n",
    "    print(i)"
   ]
  },
  {
   "cell_type": "code",
   "execution_count": 84,
   "id": "30daa363-5130-404d-b11d-62318635a66d",
   "metadata": {},
   "outputs": [
    {
     "data": {
      "text/plain": [
       "2"
      ]
     },
     "execution_count": 84,
     "metadata": {},
     "output_type": "execute_result"
    }
   ],
   "source": [
    "ar.ndim #array dimension"
   ]
  },
  {
   "cell_type": "code",
   "execution_count": 85,
   "id": "b14fc8c9-be4f-47e9-8703-45c71192df24",
   "metadata": {},
   "outputs": [
    {
     "data": {
      "text/plain": [
       "9"
      ]
     },
     "execution_count": 85,
     "metadata": {},
     "output_type": "execute_result"
    }
   ],
   "source": [
    "ar.size"
   ]
  },
  {
   "cell_type": "code",
   "execution_count": 86,
   "id": "52375f13-e0a6-44a0-86b2-aa45fa8e223c",
   "metadata": {},
   "outputs": [
    {
     "data": {
      "text/plain": [
       "72"
      ]
     },
     "execution_count": 86,
     "metadata": {},
     "output_type": "execute_result"
    }
   ],
   "source": [
    "ar.nbytes  #total bytes consume"
   ]
  },
  {
   "cell_type": "code",
   "execution_count": 87,
   "id": "650190b0-5175-454f-ac00-6db2471c9db5",
   "metadata": {},
   "outputs": [],
   "source": [
    "op=np.array([3,5,2,654,0])"
   ]
  },
  {
   "cell_type": "code",
   "execution_count": 91,
   "id": "fc477344-0352-4487-84d5-53577782b868",
   "metadata": {},
   "outputs": [
    {
     "data": {
      "text/plain": [
       "np.int64(3)"
      ]
     },
     "execution_count": 91,
     "metadata": {},
     "output_type": "execute_result"
    }
   ],
   "source": [
    "op.argmax()  #gives index of max element"
   ]
  },
  {
   "cell_type": "code",
   "execution_count": 92,
   "id": "d528c74a-27f7-4842-a601-782e7e1faf21",
   "metadata": {},
   "outputs": [
    {
     "data": {
      "text/plain": [
       "np.int64(4)"
      ]
     },
     "execution_count": 92,
     "metadata": {},
     "output_type": "execute_result"
    }
   ],
   "source": [
    "op.argmin() #gives index of min element"
   ]
  },
  {
   "cell_type": "code",
   "execution_count": 94,
   "id": "641ba5e5-5c43-49cd-8e07-fe869775614f",
   "metadata": {},
   "outputs": [
    {
     "data": {
      "text/plain": [
       "array([4, 2, 0, 1, 3])"
      ]
     },
     "execution_count": 94,
     "metadata": {},
     "output_type": "execute_result"
    }
   ],
   "source": [
    "op.argsort() #gives indices on bases of how array can be sort"
   ]
  },
  {
   "cell_type": "code",
   "execution_count": 95,
   "id": "2fac5e37-b151-45f0-af35-b9714fedd6e2",
   "metadata": {},
   "outputs": [
    {
     "data": {
      "text/plain": [
       "array([[1, 5, 8],\n",
       "       [3, 2, 4],\n",
       "       [9, 0, 5]])"
      ]
     },
     "execution_count": 95,
     "metadata": {},
     "output_type": "execute_result"
    }
   ],
   "source": [
    "ar"
   ]
  },
  {
   "cell_type": "code",
   "execution_count": 96,
   "id": "1bb3da6c-00ce-4723-a3cb-0ef967074b3a",
   "metadata": {},
   "outputs": [
    {
     "data": {
      "text/plain": [
       "np.int64(6)"
      ]
     },
     "execution_count": 96,
     "metadata": {},
     "output_type": "execute_result"
    }
   ],
   "source": [
    "ar.argmax()"
   ]
  },
  {
   "cell_type": "code",
   "execution_count": 97,
   "id": "1596519a-4f60-4bc0-935e-b8d6a78e875a",
   "metadata": {},
   "outputs": [
    {
     "data": {
      "text/plain": [
       "np.int64(7)"
      ]
     },
     "execution_count": 97,
     "metadata": {},
     "output_type": "execute_result"
    }
   ],
   "source": [
    "ar.argmin()"
   ]
  },
  {
   "cell_type": "code",
   "execution_count": 98,
   "id": "83776d2a-39d1-40ea-a11f-e6745b8e4f5e",
   "metadata": {},
   "outputs": [
    {
     "data": {
      "text/plain": [
       "array([2, 0, 0])"
      ]
     },
     "execution_count": 98,
     "metadata": {},
     "output_type": "execute_result"
    }
   ],
   "source": [
    "ar.argmax(axis=0)"
   ]
  },
  {
   "cell_type": "code",
   "execution_count": 99,
   "id": "582f2b18-211f-4c4c-940d-28ebe1e2cff6",
   "metadata": {},
   "outputs": [
    {
     "data": {
      "text/plain": [
       "array([0, 1, 1])"
      ]
     },
     "execution_count": 99,
     "metadata": {},
     "output_type": "execute_result"
    }
   ],
   "source": [
    "ar.argmin(axis=1)"
   ]
  },
  {
   "cell_type": "code",
   "execution_count": 101,
   "id": "7a87a820-3edd-4e12-830d-84bbac109fd7",
   "metadata": {},
   "outputs": [
    {
     "data": {
      "text/plain": [
       "array([[0, 1, 2],\n",
       "       [1, 0, 2],\n",
       "       [1, 2, 0]])"
      ]
     },
     "execution_count": 101,
     "metadata": {},
     "output_type": "execute_result"
    }
   ],
   "source": [
    "ar.argsort()"
   ]
  },
  {
   "cell_type": "code",
   "execution_count": 102,
   "id": "4e67144f-e1c2-41c2-bc75-6ecea123e022",
   "metadata": {},
   "outputs": [
    {
     "data": {
      "text/plain": [
       "array([[0, 2, 1],\n",
       "       [1, 1, 2],\n",
       "       [2, 0, 0]])"
      ]
     },
     "execution_count": 102,
     "metadata": {},
     "output_type": "execute_result"
    }
   ],
   "source": [
    "ar.argsort(axis=0)"
   ]
  },
  {
   "cell_type": "code",
   "execution_count": 103,
   "id": "52661ab0-e7a2-4842-af2b-fa5339e557df",
   "metadata": {},
   "outputs": [
    {
     "data": {
      "text/plain": [
       "array([[0, 1, 2],\n",
       "       [1, 0, 2],\n",
       "       [1, 2, 0]])"
      ]
     },
     "execution_count": 103,
     "metadata": {},
     "output_type": "execute_result"
    }
   ],
   "source": [
    "ar.argsort(axis=1)"
   ]
  },
  {
   "cell_type": "markdown",
   "id": "724d60f6-73d9-4b20-bd37-5c276b6026ee",
   "metadata": {},
   "source": [
    "<h1 style=\"font-size:30px;\">Mathematical operations</h1>"
   ]
  },
  {
   "cell_type": "code",
   "execution_count": 105,
   "id": "e306be27-4a15-41a4-91ca-3c01cde3a4ff",
   "metadata": {},
   "outputs": [],
   "source": [
    "ar2=np.array([[1,2,3],[4,5,6],[7,8,9]])"
   ]
  },
  {
   "cell_type": "code",
   "execution_count": 107,
   "id": "03eee3e8-a4a1-430c-b70b-c953e95cbf2f",
   "metadata": {},
   "outputs": [
    {
     "data": {
      "text/plain": [
       "array([[1, 5, 8],\n",
       "       [3, 2, 4],\n",
       "       [9, 0, 5]])"
      ]
     },
     "execution_count": 107,
     "metadata": {},
     "output_type": "execute_result"
    }
   ],
   "source": [
    "ar"
   ]
  },
  {
   "cell_type": "code",
   "execution_count": 108,
   "id": "947dd2f5-f92d-4097-88e6-f07bd14e5c83",
   "metadata": {},
   "outputs": [
    {
     "data": {
      "text/plain": [
       "array([[ 2,  7, 11],\n",
       "       [ 7,  7, 10],\n",
       "       [16,  8, 14]])"
      ]
     },
     "execution_count": 108,
     "metadata": {},
     "output_type": "execute_result"
    }
   ],
   "source": [
    "ar+ar2 #matrix addition"
   ]
  },
  {
   "cell_type": "markdown",
   "id": "db3cc947-0851-458f-ae0c-5c9541725fb8",
   "metadata": {},
   "source": [
    "ar*ar2 #element wise multiplication"
   ]
  },
  {
   "cell_type": "code",
   "execution_count": 111,
   "id": "63b64e56-5974-4960-b28d-0b5964a8d887",
   "metadata": {},
   "outputs": [
    {
     "data": {
      "text/plain": [
       "array([[1.        , 2.23606798, 2.82842712],\n",
       "       [1.73205081, 1.41421356, 2.        ],\n",
       "       [3.        , 0.        , 2.23606798]])"
      ]
     },
     "execution_count": 111,
     "metadata": {},
     "output_type": "execute_result"
    }
   ],
   "source": [
    "np.sqrt(ar)"
   ]
  },
  {
   "cell_type": "code",
   "execution_count": 112,
   "id": "e52695ea-fcc1-494c-bf65-aa7a997ee9f2",
   "metadata": {},
   "outputs": [
    {
     "data": {
      "text/plain": [
       "np.int64(37)"
      ]
     },
     "execution_count": 112,
     "metadata": {},
     "output_type": "execute_result"
    }
   ],
   "source": [
    "ar.sum()"
   ]
  },
  {
   "cell_type": "code",
   "execution_count": 113,
   "id": "c4328c28-f350-4022-83d9-63bab5e657cf",
   "metadata": {},
   "outputs": [
    {
     "data": {
      "text/plain": [
       "np.int64(9)"
      ]
     },
     "execution_count": 113,
     "metadata": {},
     "output_type": "execute_result"
    }
   ],
   "source": [
    "ar.max()"
   ]
  },
  {
   "cell_type": "code",
   "execution_count": 114,
   "id": "6bcbfa09-3302-423c-a29e-750ed9f7c6db",
   "metadata": {},
   "outputs": [
    {
     "data": {
      "text/plain": [
       "np.int64(0)"
      ]
     },
     "execution_count": 114,
     "metadata": {},
     "output_type": "execute_result"
    }
   ],
   "source": [
    "ar.min()"
   ]
  },
  {
   "cell_type": "code",
   "execution_count": 115,
   "id": "4358bcba-1f28-4c19-b7ec-322933fbdd35",
   "metadata": {},
   "outputs": [
    {
     "data": {
      "text/plain": [
       "(array([0, 2]), array([2, 0]))"
      ]
     },
     "execution_count": 115,
     "metadata": {},
     "output_type": "execute_result"
    }
   ],
   "source": [
    "np.where(ar>5)"
   ]
  },
  {
   "cell_type": "code",
   "execution_count": 116,
   "id": "af82e1e7-7978-423a-8133-9ce9b3394189",
   "metadata": {},
   "outputs": [
    {
     "data": {
      "text/plain": [
       "8"
      ]
     },
     "execution_count": 116,
     "metadata": {},
     "output_type": "execute_result"
    }
   ],
   "source": [
    "np.count_nonzero(ar)"
   ]
  },
  {
   "cell_type": "code",
   "execution_count": 117,
   "id": "acebe8e6-53f5-4e14-94eb-a6c23bf31b8d",
   "metadata": {},
   "outputs": [
    {
     "data": {
      "text/plain": [
       "(array([0, 0, 0, 1, 1, 1, 2, 2]), array([0, 1, 2, 0, 1, 2, 0, 2]))"
      ]
     },
     "execution_count": 117,
     "metadata": {},
     "output_type": "execute_result"
    }
   ],
   "source": [
    "np.nonzero(ar)"
   ]
  },
  {
   "cell_type": "markdown",
   "id": "f14ed78f-38aa-4cd9-bcab-34699e7755c5",
   "metadata": {},
   "source": [
    "<h1 style=\"font-size:30px;\">These were just some basic function and kind of like a intro to numpy, to keep learning new stuff in the numpy library visit sites like w3schools or scipy docs </h1>"
   ]
  }
 ],
 "metadata": {
  "kernelspec": {
   "display_name": "Python (my_env)",
   "language": "python",
   "name": "my_env"
  },
  "language_info": {
   "codemirror_mode": {
    "name": "ipython",
    "version": 3
   },
   "file_extension": ".py",
   "mimetype": "text/x-python",
   "name": "python",
   "nbconvert_exporter": "python",
   "pygments_lexer": "ipython3",
   "version": "3.10.12"
  }
 },
 "nbformat": 4,
 "nbformat_minor": 5
}
